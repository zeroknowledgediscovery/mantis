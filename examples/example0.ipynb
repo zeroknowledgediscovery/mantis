{
 "cells": [
  {
   "cell_type": "code",
   "execution_count": 2,
   "id": "ranking-issue",
   "metadata": {},
   "outputs": [
    {
     "name": "stdout",
     "output_type": "stream",
     "text": [
      "CPU times: user 20min 31s, sys: 33 s, total: 21min 4s\n",
      "Wall time: 21min 3s\n"
     ]
    }
   ],
   "source": [
    "%%time\n",
    "\n",
    "import pandas as pd\n",
    "from sklearn.cluster import KMeans\n",
    "from ztsad import AnomalyDetection\n",
    "\n",
    "# Prepare data\n",
    "quantized_time_series = pd.read_csv(\n",
    "    \"./test/testdataM41KS21KT323.dat\", sep=\" \", header=None, low_memory=False\n",
    ").dropna(how=\"all\", axis=1)\n",
    "quantized_time_series_train, quantized_time_series_test = (\n",
    "    # quantized_time_series, quantized_time_series\n",
    "    quantized_time_series[:2000], quantized_time_series[2000:]\n",
    ")\n",
    "\n",
    "# Define clustering algorithm to be used for clustering distance matrix\n",
    "n_clusters_ = 2\n",
    "kmeans = KMeans(n_clusters=n_clusters_)\n",
    "\n",
    "# Fit detection pipeline to training data\n",
    "pipeline = AnomalyDetection(anomaly_sensitivity=4, clustering_alg=kmeans, quantize=False, eps=0.1)\n",
    "pipeline = pipeline.fit(quantized_time_series_train)"
   ]
  },
  {
   "cell_type": "code",
   "execution_count": 19,
   "id": "adequate-episode",
   "metadata": {},
   "outputs": [
    {
     "name": "stdout",
     "output_type": "stream",
     "text": [
      "23 [2000, 2001, 2002, 2003, 2004, 2005, 2006, 2007, 2008, 2009, 2010, 2011, 2012, 2013, 2014, 2015, 2016, 2017, 2018, 2019, 2020, 2021, 2022]\n"
     ]
    }
   ],
   "source": [
    "# Loop through test time series data and plot anomalies vs. non-anomalies\n",
    "anomalies = []\n",
    "\n",
    "for i, row in quantized_time_series_test.iterrows():\n",
    "    is_anomaly = pipeline.predict(row)\n",
    "    if is_anomaly:\n",
    "        anomalies.append(i)\n",
    "     \n",
    "print(len(anomalies), anomalies)"
   ]
  }
 ],
 "metadata": {
  "kernelspec": {
   "display_name": "Python 3",
   "language": "python",
   "name": "python3"
  },
  "language_info": {
   "codemirror_mode": {
    "name": "ipython",
    "version": 3
   },
   "file_extension": ".py",
   "mimetype": "text/x-python",
   "name": "python",
   "nbconvert_exporter": "python",
   "pygments_lexer": "ipython3",
   "version": "3.9.6"
  }
 },
 "nbformat": 4,
 "nbformat_minor": 5
}
