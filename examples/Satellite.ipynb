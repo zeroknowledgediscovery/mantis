{
 "cells": [
  {
   "cell_type": "code",
   "execution_count": 1,
   "id": "absolute-unknown",
   "metadata": {},
   "outputs": [],
   "source": [
    "import pandas as pd\n",
    "from patternly.detection import AnomalyDetection\n",
    "from sklearn.cluster import KMeans\n",
    "\n",
    "original = pd.read_csv(\"./01_2015_LANL-01A_SOPA_MPA.txt\", low_memory=False)"
   ]
  },
  {
   "cell_type": "code",
   "execution_count": 2,
   "id": "exclusive-lambda",
   "metadata": {},
   "outputs": [],
   "source": [
    "predictions = pd.DataFrame()\n",
    "window_size = 1000\n",
    "for j in range(19):\n",
    "    data = original.iloc[:,j+1]\n",
    "    seqs = pd.concat(\n",
    "        [data[(window_size * i):(window_size * (i + 1))].reset_index(drop=True) for i in range(int(data.shape[0]/1000))], \n",
    "        axis=1\n",
    "    ).T.reset_index(drop=True)\n",
    "\n",
    "    seqs\n",
    "\n",
    "    kmeans = KMeans(n_clusters=1)\n",
    "    pipeline = AnomalyDetection(\n",
    "        anomaly_sensitivity=1, \n",
    "        clustering_alg=kmeans,\n",
    "        quantize_type=\"simple\",\n",
    "        eps=0.05,\n",
    "        verbose=False,\n",
    "    )\n",
    "    pipeline.fit(seqs)\n",
    "\n",
    "    predictions = pd.concat([predictions, pd.DataFrame(pipeline.predict())], axis=1)\n",
    "#     anomalies = predictions[predictions[0] == True]\n",
    "#     anomalies\n",
    "\n",
    "predictions.columns = range(predictions.shape[1])"
   ]
  },
  {
   "cell_type": "code",
   "execution_count": 3,
   "id": "ceramic-scratch",
   "metadata": {},
   "outputs": [
    {
     "data": {
      "text/html": [
       "<div>\n",
       "<style scoped>\n",
       "    .dataframe tbody tr th:only-of-type {\n",
       "        vertical-align: middle;\n",
       "    }\n",
       "\n",
       "    .dataframe tbody tr th {\n",
       "        vertical-align: top;\n",
       "    }\n",
       "\n",
       "    .dataframe thead th {\n",
       "        text-align: right;\n",
       "    }\n",
       "</style>\n",
       "<table border=\"1\" class=\"dataframe\">\n",
       "  <thead>\n",
       "    <tr style=\"text-align: right;\">\n",
       "      <th></th>\n",
       "      <th>0</th>\n",
       "    </tr>\n",
       "  </thead>\n",
       "  <tbody>\n",
       "    <tr>\n",
       "      <th>42</th>\n",
       "      <td>15</td>\n",
       "    </tr>\n",
       "    <tr>\n",
       "      <th>100</th>\n",
       "      <td>11</td>\n",
       "    </tr>\n",
       "    <tr>\n",
       "      <th>150</th>\n",
       "      <td>19</td>\n",
       "    </tr>\n",
       "    <tr>\n",
       "      <th>201</th>\n",
       "      <td>14</td>\n",
       "    </tr>\n",
       "    <tr>\n",
       "      <th>231</th>\n",
       "      <td>10</td>\n",
       "    </tr>\n",
       "  </tbody>\n",
       "</table>\n",
       "</div>"
      ],
      "text/plain": [
       "      0\n",
       "42   15\n",
       "100  11\n",
       "150  19\n",
       "201  14\n",
       "231  10"
      ]
     },
     "execution_count": 3,
     "metadata": {},
     "output_type": "execute_result"
    }
   ],
   "source": [
    "import numpy as np\n",
    "sums = predictions.apply(np.sum, axis=1).to_frame()\n",
    "sums[sums[0] == predictions.shape[1]]\n",
    "sums[sums[0] > predictions.shape[1] / 2]"
   ]
  }
 ],
 "metadata": {
  "kernelspec": {
   "display_name": "Python 3",
   "language": "python",
   "name": "python3"
  },
  "language_info": {
   "codemirror_mode": {
    "name": "ipython",
    "version": 3
   },
   "file_extension": ".py",
   "mimetype": "text/x-python",
   "name": "python",
   "nbconvert_exporter": "python",
   "pygments_lexer": "ipython3",
   "version": "3.9.6"
  }
 },
 "nbformat": 4,
 "nbformat_minor": 5
}
