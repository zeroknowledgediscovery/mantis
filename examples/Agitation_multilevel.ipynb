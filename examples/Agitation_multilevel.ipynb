{
 "cells": [
  {
   "cell_type": "code",
   "execution_count": 1,
   "id": "polished-tiffany",
   "metadata": {},
   "outputs": [],
   "source": [
    "import pandas as pd\n",
    "import numpy as np\n",
    "from timesmash import XHMMFeatures, SymbolicDerivative, InferredHMMLikelihood, Quantizer, LikelihoodDistance\n",
    "from sklearn.ensemble import RandomForestClassifier, AdaBoostClassifier, ExtraTreesClassifier, GradientBoostingClassifier\n",
    "from sklearn.tree import DecisionTreeClassifier\n",
    "from sklearn.cluster import KMeans, DBSCAN\n",
    "from sklearn.model_selection import train_test_split\n",
    "from sklearn.metrics import accuracy_score\n",
    "from patternly.detection import StreamingDetection, AnomalyDetection\n",
    "from datetime import datetime, timedelta\n",
    "from matplotlib import pyplot as plt\n",
    "\n",
    "# Read in data.\n",
    "\n",
    "def fill_end_ts(df):\n",
    "    def replace_nan(row):\n",
    "        if pd.isnull(row[\"End Timestamp\"]):\n",
    "            row[\"End Timestamp\"] = row[\"Start Timestamp\"] + 60\n",
    "        return row\n",
    "    return df.apply(replace_nan, axis=1)\n",
    "\n",
    "\n",
    "def read_in_data(session_id, df):\n",
    "    original = {}\n",
    "    start_ts = 0\n",
    "    hz = []\n",
    "    \n",
    "    for category in DATA_CATEGORIES:\n",
    "        file = category\n",
    "        if category[0:3] == \"ACC\":\n",
    "            file = \"ACC\"\n",
    "        curr = pd.read_csv(f\"./data/{str(session_id)[:-2]}/{file}.csv\", sep=\",\", low_memory=False, header=None)\n",
    "        if file == \"ACC\":\n",
    "            if category[len(category) - 1] == \"X\":\n",
    "                curr = curr.drop([1,2], axis=1)\n",
    "            elif category[len(category) - 1] == \"Y\":\n",
    "                curr = curr.drop([0,2], axis=1)\n",
    "            elif category[len(category) - 1] == \"Z\":\n",
    "                curr = curr.drop([0,1], axis=1)\n",
    "        original[category] = curr\n",
    "        start_ts = original[category].iloc[0,0]\n",
    "        hz.append(original[category].iloc[1,0])\n",
    "        original[category] = original[category].iloc[2:].reset_index(drop=True)\n",
    "        \n",
    "    agitation_starts, agitation_ends = df[df[\"Session ID\"] == session_id][[\"Start Timestamp\", \"End Timestamp\"]].T.values.tolist()    \n",
    "        \n",
    "    return original, start_ts, agitation_starts, agitation_ends, hz\n",
    "\n",
    "\n",
    "agitations = pd.read_csv(\"./agitations.csv\")\n",
    "agitations = agitations[agitations[\"Session ID\"].notna()]\n",
    "patient_set = set(agitations[\"Patient ID\"])\n",
    "patients = []\n",
    "for patient in patient_set:\n",
    "    if agitations[agitations[\"Patient ID\"] == patient].shape[0] >= 2:\n",
    "        patients.append(patient)\n",
    "        \n",
    "DATA_CATEGORIES = [\"ACC_X\", \"ACC_Y\", \"ACC_Z\"]\n",
    "DATA_CATEGORIES = [\"ACC_X\"]\n",
    "\n",
    "curr_patient = '07-B-S'\n",
    "curr_agitations = agitations[agitations[\"Patient ID\"] == curr_patient]\n",
    "curr_agitations = fill_end_ts(curr_agitations)\n",
    "\n",
    "SESSION_ID_TRAIN = curr_agitations[\"Session ID\"].iloc[0]\n",
    "\n",
    "train_original, train_start_ts, train_agitation_starts, train_agitation_ends, hz = read_in_data(SESSION_ID_TRAIN, curr_agitations)\n",
    "n_hours = 16\n",
    "train_end_ts = train_start_ts + train_original[DATA_CATEGORIES[0]].shape[0] // hz[0]\n",
    "new_train_start_ts = train_start_ts + (60 * 60 * 1)\n",
    "new_train_end_ts = min(train_end_ts, new_train_start_ts + (60 * 60 * n_hours))\n",
    "train_start_index = new_train_start_ts - train_start_ts\n",
    "train_end_index = (train_end_ts - train_start_ts) - (train_end_ts - new_train_end_ts)"
   ]
  },
  {
   "cell_type": "code",
   "execution_count": 2,
   "id": "consistent-fountain",
   "metadata": {
    "scrolled": true
   },
   "outputs": [
    {
     "name": "stdout",
     "output_type": "stream",
     "text": [
      "Splitting data into individual streams...\n",
      "Quantizing...\n",
      "Calculating distance matrix...\n",
      "Clustering distance matrix...\n",
      "Generating cluster PFSA 1/3...\n",
      "Generating cluster PFSA 2/3...\n",
      "Generating cluster PFSA 3/3...\n",
      "Calculating cluster PFSA means and stds...\n",
      "Model fit.\n",
      "CPU times: user 3min 16s, sys: 22.9 s, total: 3min 39s\n",
      "Wall time: 1h 37min 54s\n"
     ]
    }
   ],
   "source": [
    "%%time\n",
    "\n",
    "# Find first-layer PFSAs\n",
    "\n",
    "from datetime import datetime\n",
    "\n",
    "WINDOW_SIZE = (np.full((len(DATA_CATEGORIES)), 20) * hz).astype(np.int)\n",
    "WINDOW_OVERLAP = (np.full((len(DATA_CATEGORIES)), 10) * hz).astype(np.int)\n",
    "N_CLUSTERS_1 = 3\n",
    "QUANTIZE_TYPE = \"simple\"\n",
    "EPS = 0.05\n",
    "VERBOSE = True\n",
    "\n",
    "data = {}\n",
    "first_layer_pipelines = []\n",
    "second_layer_pipelines = []\n",
    "for i, category in enumerate(DATA_CATEGORIES):\n",
    "    data[category] = train_original[category].iloc[\n",
    "        int(train_start_index*hz[i]):int((train_end_index*hz[i])),\n",
    "        :\n",
    "    ].reset_index(drop=True)\n",
    "    pipeline_1 = StreamingDetection(\n",
    "        window_size=WINDOW_SIZE[i],\n",
    "        window_overlap=WINDOW_OVERLAP[i],\n",
    "        n_clusters=N_CLUSTERS_1,\n",
    "        reduce_clusters=False,\n",
    "        quantize_type=\"simple\",\n",
    "        eps=EPS,\n",
    "        verbose=VERBOSE,\n",
    "    )\n",
    "    new_data = data[category]\n",
    "\n",
    "    first_layer_pipelines.append(pipeline_1.fit(new_data))\n",
    "    pipeline_1.predict()"
   ]
  },
  {
   "cell_type": "code",
   "execution_count": 3,
   "id": "common-allowance",
   "metadata": {
    "scrolled": true
   },
   "outputs": [
    {
     "name": "stdout",
     "output_type": "stream",
     "text": [
      "CPU times: user 21.4 s, sys: 1.59 s, total: 23 s\n",
      "Wall time: 11.1 s\n"
     ]
    }
   ],
   "source": [
    "%%time\n",
    "\n",
    "# Find second-layer PFSAs\n",
    "\n",
    "N_CLUSTERS_2 = 4\n",
    "EPS = 0.05\n",
    "VERBOSE = False\n",
    "GRID_SEARCH = False\n",
    "\n",
    "second_layer_pipelines = []\n",
    "if GRID_SEARCH:\n",
    "    for i, category in enumerate(DATA_CATEGORIES):\n",
    "        max_PAI = 0\n",
    "        max_PEI = 0\n",
    "        agitation_cluster = 0\n",
    "        for NEW_WINDOW_SIZE in range(50, 250, 25):\n",
    "            for NEW_WINDOW_OVERLAP in range(0, 200, 25):\n",
    "                if NEW_WINDOW_OVERLAP >= NEW_WINDOW_SIZE:\n",
    "                    break\n",
    "                clusters = pd.DataFrame(first_layer_pipelines[i].closest_match)\n",
    "                pipeline_2 = StreamingDetection(\n",
    "                    window_size=NEW_WINDOW_SIZE,\n",
    "                    window_overlap=NEW_WINDOW_OVERLAP,\n",
    "                    n_clusters=N_CLUSTERS_2,\n",
    "                    quantize=False,\n",
    "                    reduce_clusters=False,\n",
    "                    eps=EPS,\n",
    "                    verbose=VERBOSE,\n",
    "                )\n",
    "\n",
    "                try:\n",
    "                    pipeline_2.fit(clusters)\n",
    "                    pipeline_2.predict()\n",
    "                except Exception as e:\n",
    "                    print(\"=== FAILED ===\")\n",
    "                    print(NEW_WINDOW_SIZE, NEW_WINDOW_OVERLAP)\n",
    "                    print(e)\n",
    "                    continue\n",
    "\n",
    "                # calculate PAI\n",
    "                n_windows = len(pipeline_2.closest_match)\n",
    "                window_ts = [new_train_start_ts + (new_train_end_ts - new_train_start_ts) / n_windows * j for j in range(n_windows)]\n",
    "                agitation_starts = np.asarray(train_agitation_starts)\n",
    "                agitation_starts = agitation_starts[agitation_starts < new_train_end_ts]\n",
    "                agitation_cluster_indices = np.digitize(agitation_starts, window_ts, right=True)\n",
    "                cluster_counts = np.bincount([pipeline_2.closest_match[index] for index in agitation_cluster_indices])\n",
    "                target_cluster = np.argmax(cluster_counts)\n",
    "\n",
    "                a = len(pipeline_2.closest_match[pipeline_2.closest_match == target_cluster])\n",
    "                A = n_windows\n",
    "                n = cluster_counts[target_cluster]\n",
    "                N = len(agitation_starts)\n",
    "                PAI = (A/a) * (n/N)\n",
    "                PEI = n/N\n",
    "                if PAI > max_PAI:\n",
    "                    max_PAI = PAI\n",
    "                    max_PEI = PEI\n",
    "                    print(f\"PAI: {PAI}, PEI: {PEI}, WS: {NEW_WINDOW_SIZE}, WO: {NEW_WINDOW_OVERLAP}\")\n",
    "                    print(a, A, n, N, target_cluster)\n",
    "                    agitation_cluster = target_cluster\n",
    "                    if len(second_layer_pipelines) <= i:\n",
    "                        second_layer_pipelines.append(pipeline_2)\n",
    "                    else:\n",
    "                        second_layer_pipelines[i] = pipeline_2\n",
    "else:                 \n",
    "    found_ws = 100\n",
    "    found_wo = 50\n",
    "    for i, category in enumerate(DATA_CATEGORIES):\n",
    "        clusters = pd.DataFrame(first_layer_pipelines[i].closest_match)\n",
    "        pipeline_2 = StreamingDetection(\n",
    "            window_size=found_ws,\n",
    "            window_overlap=found_wo,\n",
    "            n_clusters=N_CLUSTERS_2,\n",
    "            quantize=False,\n",
    "            reduce_clusters=False,\n",
    "            eps=EPS,\n",
    "            verbose=VERBOSE,\n",
    "        )\n",
    "        pipeline_2.fit(clusters)\n",
    "        predictions = pipeline_2.predict()\n",
    "        second_layer_pipelines.append(pipeline_2)"
   ]
  },
  {
   "cell_type": "code",
   "execution_count": 4,
   "id": "least-scott",
   "metadata": {
    "scrolled": false
   },
   "outputs": [
    {
     "data": {
      "image/png": "[encoded data removed]",
      "text/plain": [
       "<Figure size 1440x360 with 1 Axes>"
      ]
     },
     "metadata": {
      "needs_background": "light"
     },
     "output_type": "display_data"
    },
    {
     "name": "stdout",
     "output_type": "stream",
     "text": [
      "CPU times: user 6.89 s, sys: 452 ms, total: 7.34 s\n",
      "Wall time: 6.84 s\n"
     ]
    }
   ],
   "source": [
    "%%time\n",
    "\n",
    "# Visualize second-layer PFSAs with respect to the original data\n",
    "\n",
    "import matplotlib.pyplot as plt\n",
    "from datetime import datetime\n",
    "plt.rcParams[\"figure.figsize\"] = (20, 5)\n",
    "\n",
    "def graph_data(pipelines, data, start_ts, end_ts, agitation_starts):\n",
    "    for i, category in enumerate(DATA_CATEGORIES):\n",
    "\n",
    "        NEW_WINDOW_SIZE = pipelines[i].window_size\n",
    "        NEW_WINDOW_OVERLAP = pipelines[i].window_overlap\n",
    "        pipelines[i].anomaly_sensitivity = 1\n",
    "        predictions = pd.DataFrame(pipelines[i].predict())\n",
    "\n",
    "        data[\"ts\"] = pd.DataFrame([datetime.fromtimestamp(start_ts + (j / hz[i])) for j in range(data[category].shape[0])])\n",
    "        df = pd.concat([data[category], data[\"ts\"]], axis=1)\n",
    "        df.columns = [\"data\", \"ts\"]\n",
    "\n",
    "        plt.subplot(len(DATA_CATEGORIES), 1, i+1)\n",
    "        plt.plot(df[\"ts\"], df[\"data\"], color=\"green\", markersize=2, zorder=1)\n",
    "\n",
    "        # highlight true anomalies\n",
    "        for ts in agitation_starts:\n",
    "            if ts > end_ts:\n",
    "                continue\n",
    "            beg = datetime.fromtimestamp(ts)\n",
    "            end = datetime.fromtimestamp(ts + 60)\n",
    "            plt.axvspan(beg, end, color='black', alpha=0.8, lw=0, zorder=3)\n",
    "\n",
    "        # highlight non-anomalies by cluster\n",
    "        colors = [\"#7766ee\", \"blue\", \"darkgreen\", \"darkorange\", 'cyan', \"navy\", \"yellow\", \"darkgray\", \"white\", \"purple\"]\n",
    "        non_anomalies = predictions\n",
    "        for index in non_anomalies.index:\n",
    "            base = (NEW_WINDOW_SIZE- NEW_WINDOW_OVERLAP) * (WINDOW_SIZE[i] - WINDOW_OVERLAP[i]) * index\n",
    "            next_base = base + NEW_WINDOW_SIZE * (WINDOW_SIZE[i] - WINDOW_OVERLAP[i])\n",
    "            next_base = (NEW_WINDOW_SIZE - NEW_WINDOW_OVERLAP) * (WINDOW_SIZE[i] - WINDOW_OVERLAP[i]) * (index + 1)\n",
    "            beg = data[\"ts\"].iloc[min(data[\"ts\"].shape[0] - 1, base)][0]\n",
    "            end = data[\"ts\"].iloc[min(data[\"ts\"].shape[0] - 1, next_base)][0] \n",
    "            color = colors[pipelines[i].closest_match[index]]\n",
    "            plt.axvspan(beg, end, color=color, alpha=0.25, lw=0, zorder=0)\n",
    "\n",
    "        ax = plt.gca()\n",
    "        plt.setp(ax.get_xticklabels(), fontsize=16, y=-.02)\n",
    "        plt.setp(ax.get_yticklabels(), fontsize=16)\n",
    "        ax.tick_params(axis='x', colors='.5')    \n",
    "        ax.tick_params(axis='y', colors='.5', pad=15)  \n",
    "        ax.yaxis.offsetText.set_fontsize(16)\n",
    "        ax.spines['bottom'].set_color('.75')\n",
    "        ax.spines['top'].set_color('.75') \n",
    "        ax.spines['right'].set_color('.75')\n",
    "        ax.spines['left'].set_color('.75')\n",
    "        ax.set_title(f\"{category}\", fontsize=16, y=1.02, color='.5')\n",
    "\n",
    "    plt.tight_layout(pad=2)\n",
    "    plt.show()\n",
    "    \n",
    "graph_data(second_layer_pipelines, data, new_train_start_ts, new_train_end_ts, train_agitation_starts)"
   ]
  },
  {
   "cell_type": "code",
   "execution_count": 5,
   "id": "superior-marathon",
   "metadata": {},
   "outputs": [
    {
     "data": {
      "image/png": "[encoded data removed]",
      "text/plain": [
       "<Figure size 1440x360 with 1 Axes>"
      ]
     },
     "metadata": {
      "needs_background": "light"
     },
     "output_type": "display_data"
    }
   ],
   "source": [
    "# Visualize second-layer PFSAs (highlights) in relation to first-layer PFSAs (dots)\n",
    "\n",
    "plt.rcParams[\"figure.figsize\"] = (20, 5)\n",
    "\n",
    "for category in DATA_CATEGORIES:\n",
    "    data[\"ts\"] = pd.DataFrame(\n",
    "        [\n",
    "            datetime.fromtimestamp(new_train_start_ts + ((j * (pipeline_1.window_size - pipeline_1.window_overlap)) / hz[0]))\n",
    "            for j in range(len(pipeline_1.closest_match)//1)\n",
    "        ]\n",
    "    )\n",
    "    df = pd.concat([pd.DataFrame(pipeline_1.closest_match), data[\"ts\"]], axis=1).dropna()\n",
    "    df.columns = [\"data\", \"ts\"]\n",
    "\n",
    "    colors = [\"#7766ee\", \"blue\", \"darkgreen\", \"darkorange\", 'cyan', \"navy\", \"yellow\", \"darkgray\", \"white\", \"purple\"]\n",
    "    scatter_colors = [\"red\", \"navy\", \"blueviolet\"]\n",
    "\n",
    "#     plt.subplot(len(DATA_CATEGORIES), 1, i+1)\n",
    "    for cluster, indices in df.groupby(\"data\"):\n",
    "        plt.plot(indices[\"ts\"], indices[\"data\"], markersize=0.8, linestyle='', marker='o', color=scatter_colors[cluster])\n",
    "\n",
    "    pipeline_2.predict(pipeline_1.closest_match)\n",
    "    for index, cluster in enumerate(pipeline_2.closest_match):\n",
    "        base = (pipeline_2.window_size- pipeline_2.window_overlap) * index\n",
    "        next_base = base + pipeline_2.window_size \n",
    "        next_base = (pipeline_2.window_size - pipeline_2.window_overlap) * (index + 1)\n",
    "        beg = data[\"ts\"].iloc[min(data[\"ts\"].shape[0] - 1, base)][0]\n",
    "        end = data[\"ts\"].iloc[min(data[\"ts\"].shape[0] - 1, next_base)][0] \n",
    "        color = colors[pipeline_2.closest_match[index]]\n",
    "        plt.axvspan(beg, end, color=color, alpha=0.3, lw=0, zorder=0)\n",
    "    \n",
    "    \n",
    "ax = plt.gca()\n",
    "plt.setp(ax.get_xticklabels(), fontsize=14, y=-.02)\n",
    "plt.setp(ax.get_yticklabels(), fontsize=14)\n",
    "plt.yticks(np.arange(0, pipeline_1.n_clusters, 1))\n",
    "ax.tick_params(axis='x', colors='.5')    \n",
    "ax.tick_params(axis='y', colors='.5', pad=15)  \n",
    "ax.yaxis.offsetText.set_fontsize(16)\n",
    "ax.spines['bottom'].set_color('.75')\n",
    "ax.spines['top'].set_color('.75') \n",
    "ax.spines['right'].set_color('.75')\n",
    "ax.spines['left'].set_color('.75')"
   ]
  },
  {
   "cell_type": "code",
   "execution_count": 6,
   "id": "royal-kruger",
   "metadata": {
    "scrolled": false
   },
   "outputs": [
    {
     "name": "stdout",
     "output_type": "stream",
     "text": [
      "ACC_X\n",
      "Cluster 0 PFSA\n"
     ]
    },
    {
     "data": {
      "text/html": [
       "<img src=\"zed_temp/clean_18cda2a9-a015-4aeb-9ead-76b92e28a8d2.png\" width=\"300\"/>"
      ],
      "text/plain": [
       "<IPython.core.display.Image object>"
      ]
     },
     "metadata": {},
     "output_type": "display_data"
    },
    {
     "name": "stdout",
     "output_type": "stream",
     "text": [
      "Cluster 1 PFSA\n"
     ]
    },
    {
     "data": {
      "text/html": [
       "<img src=\"zed_temp/clean_9536ae37-6079-4c0f-ac14-21941606fef1.png\" width=\"300\"/>"
      ],
      "text/plain": [
       "<IPython.core.display.Image object>"
      ]
     },
     "metadata": {},
     "output_type": "display_data"
    },
    {
     "name": "stdout",
     "output_type": "stream",
     "text": [
      "Cluster 2 PFSA\n"
     ]
    },
    {
     "data": {
      "text/html": [
       "<img src=\"zed_temp/clean_2a81c426-b2ea-4fd1-8e00-4a0a46186872.png\" width=\"300\"/>"
      ],
      "text/plain": [
       "<IPython.core.display.Image object>"
      ]
     },
     "metadata": {},
     "output_type": "display_data"
    },
    {
     "name": "stdout",
     "output_type": "stream",
     "text": [
      "Cluster 3 PFSA\n"
     ]
    },
    {
     "data": {
      "text/html": [
       "<img src=\"zed_temp/clean_08a8f901-f200-49fa-8114-e2cb1f65a7b2.png\" width=\"300\"/>"
      ],
      "text/plain": [
       "<IPython.core.display.Image object>"
      ]
     },
     "metadata": {},
     "output_type": "display_data"
    }
   ],
   "source": [
    "from IPython.display import Image, display\n",
    "from IPython.core.display import HTML\n",
    "for i, pipeline in enumerate(second_layer_pipelines):\n",
    "    print(DATA_CATEGORIES[i])\n",
    "    for i, file in enumerate(pipeline.cluster_PFSA_pngs):\n",
    "        print(f\"Cluster {i} PFSA\")\n",
    "        display(Image(url=f\"{file}.png\", width=300))"
   ]
  }
 ],
 "metadata": {
  "kernelspec": {
   "display_name": "Python 3.9",
   "language": "python",
   "name": "py39"
  },
  "language_info": {
   "codemirror_mode": {
    "name": "ipython",
    "version": 3
   },
   "file_extension": ".py",
   "mimetype": "text/x-python",
   "name": "python",
   "nbconvert_exporter": "python",
   "pygments_lexer": "ipython3",
   "version": "3.9.13"
  }
 },
 "nbformat": 4,
 "nbformat_minor": 5
}
