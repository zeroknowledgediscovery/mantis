{
 "cells": [
  {
   "cell_type": "code",
   "execution_count": 1,
   "id": "incorporated-stevens",
   "metadata": {
    "scrolled": false
   },
   "outputs": [],
   "source": [
    "import pandas as pd\n",
    "from sklearn.cluster import KMeans\n",
    "from patternly.detection import StreamingDetection\n",
    "\n",
    "data = pd.read_csv(\"./data/data1\", low_memory=False)"
   ]
  },
  {
   "cell_type": "code",
   "execution_count": 2,
   "id": "living-performer",
   "metadata": {},
   "outputs": [
    {
     "name": "stdout",
     "output_type": "stream",
     "text": [
      "Splitting data into individual streams...\n",
      "Calculating distance matrix...\n",
      "Clustering distance matrix...\n",
      "Writing cluster 1/2 to file...\n",
      "Writing cluster 2/2 to file...\n",
      "Generating cluster PFSA 1/2...\n",
      "Generating cluster PFSA 2/2...\n",
      "Calculating cluster PFSA means and stds...\n",
      "[27, 96, 200, 209, 239]\n"
     ]
    }
   ],
   "source": [
    "pipeline = StreamingDetection(\n",
    "    window_size=1000,\n",
    "    window_overlap=0,\n",
    "    anomaly_sensitivity=2, \n",
    "    n_clusters=2, \n",
    "    quantize=False, \n",
    "    eps=0.1, \n",
    "    verbose=True\n",
    ")\n",
    "pipeline.fit(data)\n",
    "\n",
    "predictions = pd.DataFrame(pipeline.predict())\n",
    "anomalies = predictions[predictions[0] == True]\n",
    "anomalies\n",
    "print(list(anomalies.index))"
   ]
  },
  {
   "cell_type": "code",
   "execution_count": 3,
   "id": "consolidated-rotation",
   "metadata": {},
   "outputs": [],
   "source": [
    "pipeline.save_model()"
   ]
  },
  {
   "cell_type": "code",
   "execution_count": 4,
   "id": "empirical-given",
   "metadata": {},
   "outputs": [
    {
     "name": "stdout",
     "output_type": "stream",
     "text": [
      "[27, 96, 200, 209, 239]\n"
     ]
    }
   ],
   "source": [
    "new_pipeline = StreamingDetection().load_model()\n",
    "\n",
    "predictions = pd.DataFrame(new_pipeline.predict())\n",
    "anomalies = predictions[predictions[0] == True]\n",
    "anomalies\n",
    "print(list(anomalies.index))"
   ]
  },
  {
   "cell_type": "code",
   "execution_count": 5,
   "id": "inner-boxing",
   "metadata": {},
   "outputs": [
    {
     "name": "stdout",
     "output_type": "stream",
     "text": [
      "Cluster 0 PFSA\n"
     ]
    },
    {
     "data": {
      "text/html": [
       "<img src=\"zed_temp/clean_145c6afe-0a26-499b-b15e-f7745b424cd4.png\" width=\"300\"/>"
      ],
      "text/plain": [
       "<IPython.core.display.Image object>"
      ]
     },
     "metadata": {},
     "output_type": "display_data"
    },
    {
     "name": "stdout",
     "output_type": "stream",
     "text": [
      "Cluster 1 PFSA\n"
     ]
    },
    {
     "data": {
      "text/html": [
       "<img src=\"zed_temp/clean_fb761fbb-a203-47a9-9023-8cba9094ba42.png\" width=\"300\"/>"
      ],
      "text/plain": [
       "<IPython.core.display.Image object>"
      ]
     },
     "metadata": {},
     "output_type": "display_data"
    }
   ],
   "source": [
    "from IPython.display import Image, display\n",
    "from IPython.core.display import HTML\n",
    "for i, file in enumerate(pipeline.dot_files):\n",
    "    print(f\"Cluster {i} PFSA\")\n",
    "    display(Image(url=f\"{file}.png\", width=300))"
   ]
  }
 ],
 "metadata": {
  "kernelspec": {
   "display_name": "Python 3",
   "language": "python",
   "name": "python3"
  },
  "language_info": {
   "codemirror_mode": {
    "name": "ipython",
    "version": 3
   },
   "file_extension": ".py",
   "mimetype": "text/x-python",
   "name": "python",
   "nbconvert_exporter": "python",
   "pygments_lexer": "ipython3",
   "version": "3.9.6"
  }
 },
 "nbformat": 4,
 "nbformat_minor": 5
}
