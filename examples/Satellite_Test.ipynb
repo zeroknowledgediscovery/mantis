{
 "cells": [
  {
   "cell_type": "code",
   "execution_count": 1,
   "id": "incorporated-stevens",
   "metadata": {
    "scrolled": false
   },
   "outputs": [],
   "source": [
    "import pandas as pd\n",
    "from sklearn.cluster import KMeans\n",
    "from patternly.detection import StreamingDetection\n",
    "\n",
    "data = pd.read_csv(\"./data/data1\", low_memory=False)"
   ]
  },
  {
   "cell_type": "code",
   "execution_count": 6,
   "id": "living-performer",
   "metadata": {},
   "outputs": [
    {
     "name": "stdout",
     "output_type": "stream",
     "text": [
      "Splitting data into individual streams...\n",
      "Calculating distance matrix...\n",
      "Clustering distance matrix...\n",
      "Generating cluster PFSA 1/3...\n",
      "Generating cluster PFSA 2/3...\n",
      "Generating cluster PFSA 3/3...\n",
      "Calculating cluster PFSA means and stds...\n",
      "[]\n"
     ]
    }
   ],
   "source": [
    "pipeline = StreamingDetection(\n",
    "    window_size=1000,\n",
    "    window_overlap=0,\n",
    "    anomaly_sensitivity=2, \n",
    "    n_clusters=3, \n",
    "    quantize=False, \n",
    "    eps=0.2, \n",
    "    verbose=True\n",
    ")\n",
    "pipeline.fit(data)\n",
    "\n",
    "predictions = pd.DataFrame(pipeline.predict())\n",
    "anomalies = predictions[predictions[0] == True]\n",
    "anomalies\n",
    "print(list(anomalies.index))"
   ]
  },
  {
   "cell_type": "code",
   "execution_count": 3,
   "id": "consolidated-rotation",
   "metadata": {},
   "outputs": [],
   "source": [
    "pipeline.save_model()"
   ]
  },
  {
   "cell_type": "code",
   "execution_count": 4,
   "id": "empirical-given",
   "metadata": {},
   "outputs": [
    {
     "name": "stdout",
     "output_type": "stream",
     "text": [
      "Splitting data into individual streams...\n",
      "[27, 96, 158, 200, 239]\n"
     ]
    }
   ],
   "source": [
    "new_pipeline = StreamingDetection().load_model()\n",
    "\n",
    "predictions = pd.DataFrame(new_pipeline.predict(data))\n",
    "anomalies = predictions[predictions[0] == True]\n",
    "anomalies\n",
    "print(list(anomalies.index))"
   ]
  },
  {
   "cell_type": "code",
   "execution_count": 7,
   "id": "inner-boxing",
   "metadata": {},
   "outputs": [
    {
     "name": "stdout",
     "output_type": "stream",
     "text": [
      "Cluster 0 PFSA\n"
     ]
    },
    {
     "data": {
      "text/html": [
       "<img src=\"zed_temp/clean_f2d7739e-7fc1-4152-8695-dc5a49ca1285.png\" width=\"300\"/>"
      ],
      "text/plain": [
       "<IPython.core.display.Image object>"
      ]
     },
     "metadata": {},
     "output_type": "display_data"
    },
    {
     "name": "stdout",
     "output_type": "stream",
     "text": [
      "Cluster 1 PFSA\n"
     ]
    },
    {
     "data": {
      "text/html": [
       "<img src=\"zed_temp/clean_c348f58e-76cb-4012-9ded-6b78fa421ba1.png\" width=\"300\"/>"
      ],
      "text/plain": [
       "<IPython.core.display.Image object>"
      ]
     },
     "metadata": {},
     "output_type": "display_data"
    },
    {
     "name": "stdout",
     "output_type": "stream",
     "text": [
      "Cluster 2 PFSA\n"
     ]
    },
    {
     "data": {
      "text/html": [
       "<img src=\"zed_temp/clean_8b7aeb81-fbe8-4a0e-a8ec-f3210287e2ef.png\" width=\"300\"/>"
      ],
      "text/plain": [
       "<IPython.core.display.Image object>"
      ]
     },
     "metadata": {},
     "output_type": "display_data"
    }
   ],
   "source": [
    "from IPython.display import Image, display\n",
    "from IPython.core.display import HTML\n",
    "for i, file in enumerate(pipeline.cluster_PFSA_pngs):\n",
    "    print(f\"Cluster {i} PFSA\")\n",
    "    display(Image(url=f\"{file}.png\", width=300))"
   ]
  }
 ],
 "metadata": {
  "kernelspec": {
   "display_name": "Python 3",
   "language": "python",
   "name": "python3"
  },
  "language_info": {
   "codemirror_mode": {
    "name": "ipython",
    "version": 3
   },
   "file_extension": ".py",
   "mimetype": "text/x-python",
   "name": "python",
   "nbconvert_exporter": "python",
   "pygments_lexer": "ipython3",
   "version": "3.9.6"
  }
 },
 "nbformat": 4,
 "nbformat_minor": 5
}
