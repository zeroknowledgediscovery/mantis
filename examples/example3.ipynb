{
 "cells": [
  {
   "cell_type": "code",
   "execution_count": 4,
   "id": "broke-ridge",
   "metadata": {},
   "outputs": [
    {
     "name": "stdout",
     "output_type": "stream",
     "text": [
      "Calculating distance matrix\n",
      "Clustering distance matrix\n",
      "Writing clusters to file\n",
      "Generating cluster PFSAs\n",
      "Calculating cluster PFSA means and stds\n",
      "CPU times: user 1.2 s, sys: 24 ms, total: 1.22 s\n",
      "Wall time: 1.22 s\n"
     ]
    }
   ],
   "source": [
    "%%time\n",
    "\n",
    "import pandas as pd\n",
    "from sklearn.cluster import KMeans\n",
    "from mantis import AnomalyDetection\n",
    "\n",
    "# Prepare data\n",
    "quantized_time_series = pd.read_csv(\n",
    "    \"example3.dat\", sep=\" \", header=None, low_memory=False\n",
    ").dropna(how=\"all\", axis=1)\n",
    "quantized_time_series_train, quantized_time_series_test = (\n",
    "    quantized_time_series[:50], quantized_time_series[50:]\n",
    ")\n",
    "\n",
    "# Define clustering algorithm to be used for clustering distance matrix\n",
    "n_clusters_ = 1\n",
    "kmeans = KMeans(n_clusters=n_clusters_)\n",
    "\n",
    "# Fit detection pipeline to training data\n",
    "pipeline = AnomalyDetection(anomaly_sensitivity=1, clustering_alg=kmeans, quantize=False, eps=0.005, verbose=True)\n",
    "pipeline = pipeline.fit(quantized_time_series_train)"
   ]
  },
  {
   "cell_type": "code",
   "execution_count": 5,
   "id": "greenhouse-script",
   "metadata": {},
   "outputs": [
    {
     "name": "stdout",
     "output_type": "stream",
     "text": [
      "[0.9709339343022859]\n",
      "[0.9710499060183373]\n",
      "[0.9705162144687293]\n",
      "[0.9697422203262389]\n",
      "[0.9728264002611849]\n",
      "0 []\n"
     ]
    }
   ],
   "source": [
    "# Loop through test time series data and plot anomalies vs. non-anomalies\n",
    "anomalies = []\n",
    "pipeline.anomaly_sensitivity = 1\n",
    "\n",
    "for i, row in quantized_time_series_test.iterrows():\n",
    "    is_anomaly = pipeline.predict(row)\n",
    "    print(pipeline.curr_cluster_llk_vec)\n",
    "    if is_anomaly:\n",
    "        anomalies.append(i)\n",
    "     \n",
    "print(len(anomalies), anomalies)"
   ]
  },
  {
   "cell_type": "code",
   "execution_count": 6,
   "id": "constitutional-trust",
   "metadata": {},
   "outputs": [
    {
     "name": "stdout",
     "output_type": "stream",
     "text": [
      "[0.9752409408138026]\n"
     ]
    }
   ],
   "source": [
    "pipeline.predict(quantized_time_series_train.iloc[49])\n",
    "print(pipeline.curr_cluster_llk_vec)"
   ]
  }
 ],
 "metadata": {
  "kernelspec": {
   "display_name": "Python 3",
   "language": "python",
   "name": "python3"
  },
  "language_info": {
   "codemirror_mode": {
    "name": "ipython",
    "version": 3
   },
   "file_extension": ".py",
   "mimetype": "text/x-python",
   "name": "python",
   "nbconvert_exporter": "python",
   "pygments_lexer": "ipython3",
   "version": "3.9.6"
  }
 },
 "nbformat": 4,
 "nbformat_minor": 5
}
