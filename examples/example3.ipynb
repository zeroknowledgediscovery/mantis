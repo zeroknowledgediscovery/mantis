{
 "cells": [
  {
   "cell_type": "code",
   "execution_count": 5,
   "id": "dietary-deployment",
   "metadata": {},
   "outputs": [
    {
     "name": "stdout",
     "output_type": "stream",
     "text": [
      "CPU times: user 1.04 s, sys: 24.6 ms, total: 1.07 s\n",
      "Wall time: 1.07 s\n"
     ]
    }
   ],
   "source": [
    "%%time\n",
    "\n",
    "import pandas as pd\n",
    "from sklearn.cluster import KMeans\n",
    "from mantis import AnomalyDetection\n",
    "\n",
    "# Prepare data\n",
    "quantized_time_series = pd.read_csv(\n",
    "    \"example3.dat\", sep=\" \", header=None, low_memory=False\n",
    ").dropna(how=\"all\", axis=1)\n",
    "quantized_time_series_train, quantized_time_series_test = (\n",
    "    quantized_time_series, quantized_time_series\n",
    ")\n",
    "\n",
    "# Define clustering algorithm to be used for clustering distance matrix\n",
    "n_clusters_ = 1\n",
    "kmeans = KMeans(n_clusters=n_clusters_)\n",
    "\n",
    "# Fit detection pipeline to training data\n",
    "pipeline = AnomalyDetection(anomaly_sensitivity=1, clustering_alg=kmeans, quantize=False, eps=0.1)\n",
    "pipeline = pipeline.fit(quantized_time_series_train)"
   ]
  },
  {
   "cell_type": "code",
   "execution_count": 6,
   "id": "exciting-police",
   "metadata": {},
   "outputs": [
    {
     "name": "stdout",
     "output_type": "stream",
     "text": [
      "14 [4, 5, 10, 11, 13, 16, 17, 22, 24, 33, 34, 37, 44, 49]\n"
     ]
    }
   ],
   "source": [
    "# Loop through test time series data and plot anomalies vs. non-anomalies\n",
    "anomalies = []\n",
    "pipeline.anomaly_sensitivity = 1\n",
    "\n",
    "for i, row in quantized_time_series_train.iterrows():\n",
    "    is_anomaly = pipeline.predict(row)\n",
    "    if is_anomaly:\n",
    "        anomalies.append(i)\n",
    "     \n",
    "print(len(anomalies), anomalies)"
   ]
  }
 ],
 "metadata": {
  "kernelspec": {
   "display_name": "Python 3",
   "language": "python",
   "name": "python3"
  },
  "language_info": {
   "codemirror_mode": {
    "name": "ipython",
    "version": 3
   },
   "file_extension": ".py",
   "mimetype": "text/x-python",
   "name": "python",
   "nbconvert_exporter": "python",
   "pygments_lexer": "ipython3",
   "version": "3.9.6"
  }
 },
 "nbformat": 4,
 "nbformat_minor": 5
}
