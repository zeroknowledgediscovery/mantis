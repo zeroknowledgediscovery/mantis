{
 "cells": [
  {
   "cell_type": "code",
   "execution_count": 1,
   "id": "broke-ridge",
   "metadata": {},
   "outputs": [
    {
     "name": "stdout",
     "output_type": "stream",
     "text": [
      "CPU times: user 9.06 s, sys: 1.17 s, total: 10.2 s\n",
      "Wall time: 3.5 s\n"
     ]
    }
   ],
   "source": [
    "%%time\n",
    "\n",
    "import pandas as pd\n",
    "from sklearn.cluster import FeatureAgglomeration\n",
    "from patternly.detection import AnomalyDetection\n",
    "\n",
    "# Prepare data\n",
    "quantized_time_series = pd.read_csv(\n",
    "    \"./data/example3.dat\", sep=\" \", header=None, low_memory=False\n",
    ").dropna(how=\"all\", axis=1)\n",
    "quantized_time_series_train, quantized_time_series_test = (\n",
    "    quantized_time_series, quantized_time_series\n",
    ")\n",
    "\n",
    "# Define clustering algorithm to be used for clustering distance matrix\n",
    "n_clusters_ = 2\n",
    "alg = FeatureAgglomeration(n_clusters=n_clusters_)\n",
    "\n",
    "# Fit detection pipeline to training data\n",
    "pipeline = AnomalyDetection(anomaly_sensitivity=1, clustering_alg=alg, quantize=False, eps=0.01)\n",
    "pipeline = pipeline.fit(quantized_time_series_train)"
   ]
  },
  {
   "cell_type": "code",
   "execution_count": 2,
   "id": "constitutional-trust",
   "metadata": {},
   "outputs": [
    {
     "name": "stdout",
     "output_type": "stream",
     "text": [
      "3\n",
      "CPU times: user 181 ms, sys: 1.07 ms, total: 182 ms\n",
      "Wall time: 182 ms\n"
     ]
    },
    {
     "data": {
      "text/html": [
       "<div>\n",
       "<style scoped>\n",
       "    .dataframe tbody tr th:only-of-type {\n",
       "        vertical-align: middle;\n",
       "    }\n",
       "\n",
       "    .dataframe tbody tr th {\n",
       "        vertical-align: top;\n",
       "    }\n",
       "\n",
       "    .dataframe thead th {\n",
       "        text-align: right;\n",
       "    }\n",
       "</style>\n",
       "<table border=\"1\" class=\"dataframe\">\n",
       "  <thead>\n",
       "    <tr style=\"text-align: right;\">\n",
       "      <th></th>\n",
       "      <th>0</th>\n",
       "    </tr>\n",
       "  </thead>\n",
       "  <tbody>\n",
       "    <tr>\n",
       "      <th>5</th>\n",
       "      <td>True</td>\n",
       "    </tr>\n",
       "    <tr>\n",
       "      <th>37</th>\n",
       "      <td>True</td>\n",
       "    </tr>\n",
       "    <tr>\n",
       "      <th>49</th>\n",
       "      <td>True</td>\n",
       "    </tr>\n",
       "  </tbody>\n",
       "</table>\n",
       "</div>"
      ],
      "text/plain": [
       "       0\n",
       "5   True\n",
       "37  True\n",
       "49  True"
      ]
     },
     "execution_count": 2,
     "metadata": {},
     "output_type": "execute_result"
    }
   ],
   "source": [
    "%%time\n",
    "\n",
    "predictions = pd.DataFrame(pipeline.predict())\n",
    "anomalies = predictions[predictions[0] == True]\n",
    "print(anomalies.shape[0])\n",
    "anomalies"
   ]
  },
  {
   "cell_type": "code",
   "execution_count": 3,
   "id": "operational-perspective",
   "metadata": {
    "scrolled": false
   },
   "outputs": [
    {
     "name": "stdout",
     "output_type": "stream",
     "text": [
      "Cluster 0 PFSA\n"
     ]
    },
    {
     "data": {
      "text/html": [
       "<img src=\"zed_temp/clean_c7631d52-d16d-481f-9e37-096c8c52e120.png\" width=\"300\"/>"
      ],
      "text/plain": [
       "<IPython.core.display.Image object>"
      ]
     },
     "metadata": {},
     "output_type": "display_data"
    },
    {
     "name": "stdout",
     "output_type": "stream",
     "text": [
      "Cluster 1 PFSA\n"
     ]
    },
    {
     "data": {
      "text/html": [
       "<img src=\"zed_temp/clean_89c3d4c2-ef1e-4e88-b073-d1dd33a67197.png\" width=\"300\"/>"
      ],
      "text/plain": [
       "<IPython.core.display.Image object>"
      ]
     },
     "metadata": {},
     "output_type": "display_data"
    },
    {
     "name": "stdout",
     "output_type": "stream",
     "text": [
      "Cluster 0 PFSA:\n",
      "%ANN_ERR: 36.366\n",
      "%MRG_EPS: 0.01\n",
      "%SYN_STR: [1]\n",
      "%SYM_FRQ: [0.500222, 0.499778]\n",
      "%PITILDE: [[0.59765, 0.402351], [0.398571, 0.601429], [0.410561, 0.589439], [0.59779, 0.40221], [0.601016, 0.398984]]\n",
      "%CONNX: [[1, 0], [2, 3], [1, 3], [1, 4], [1, 0]]\n",
      "\n",
      "\n",
      "Cluster 1 PFSA:\n",
      "%ANN_ERR: 11.1145\n",
      "%MRG_EPS: 0.01\n",
      "%SYN_STR: None\n",
      "%SYM_FRQ: [0.500211, 0.499789]\n",
      "%PITILDE: [[0.405198, 0.594802], [0.595303, 0.404697]]\n",
      "%CONNX: [[0, 1], [0, 1]]\n"
     ]
    }
   ],
   "source": [
    "from IPython.display import Image, display\n",
    "from IPython.core.display import HTML\n",
    "for i, file in enumerate(pipeline.dot_files):\n",
    "    print(f\"Cluster {i} PFSA\")\n",
    "    display(Image(url=f\"{file}.png\", width=300))\n",
    "    \n",
    "pipeline.print_PFSAs()"
   ]
  }
 ],
 "metadata": {
  "kernelspec": {
   "display_name": "Python 3",
   "language": "python",
   "name": "python3"
  },
  "language_info": {
   "codemirror_mode": {
    "name": "ipython",
    "version": 3
   },
   "file_extension": ".py",
   "mimetype": "text/x-python",
   "name": "python",
   "nbconvert_exporter": "python",
   "pygments_lexer": "ipython3",
   "version": "3.9.6"
  }
 },
 "nbformat": 4,
 "nbformat_minor": 5
}
