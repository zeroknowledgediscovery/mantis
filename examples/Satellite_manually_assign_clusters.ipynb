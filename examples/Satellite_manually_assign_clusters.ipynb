{
 "cells": [
  {
   "cell_type": "code",
   "execution_count": 1,
   "id": "2df7a966",
   "metadata": {},
   "outputs": [],
   "source": [
    "import pandas as pd\n",
    "import numpy as np\n",
    "from patternly.detection import ContinuousStreamingDetection, StreamingDetection\n",
    "from sklearn.cluster import KMeans\n",
    "from IPython.display import Image, display\n",
    "from IPython.core.display import HTML"
   ]
  },
  {
   "cell_type": "code",
   "execution_count": 2,
   "id": "4825215e",
   "metadata": {},
   "outputs": [],
   "source": [
    "start_col = 0\n",
    "end_col = 3\n",
    "window_size = 1000\n",
    "n_clusters = 2\n",
    "original = pd.read_csv(\"./01_2015_LANL-01A_SOPA_MPA.txt\",low_memory=False).dropna(how=\"any\", axis=0)"
   ]
  },
  {
   "cell_type": "code",
   "execution_count": 3,
   "id": "8f42b4cd",
   "metadata": {},
   "outputs": [],
   "source": [
    "# split entire data for each channel into sequences and find PFSA's for specified n_clusters\n",
    "predictions = pd.DataFrame()\n",
    "pipelines = []\n",
    "for i in range(start_col, end_col):\n",
    "    data = original.iloc[:,i+1].reset_index(drop=True).replace(-1e+31, np.nan).dropna(how=\"all\", axis=0)\n",
    "    \n",
    "    pipelines.append(\n",
    "        StreamingDetection(\n",
    "            window_size=window_size,\n",
    "            window_overlap=0,\n",
    "            anomaly_sensitivity=1,\n",
    "            n_clusters=n_clusters,\n",
    "            quantize_type=\"simple\",\n",
    "            eps=0.05,\n",
    "            verbose=False,\n",
    "            reduce_clusters = False,\n",
    "        )\n",
    "    )\n",
    "    pipelines[i - start_col].fit(data)\n",
    "\n",
    "    predictions = pd.concat([predictions, pd.DataFrame(pipelines[i - start_col].predict())], axis=1)\n",
    "\n",
    "predictions.columns = range(predictions.shape[1])"
   ]
  },
  {
   "cell_type": "code",
   "execution_count": null,
   "id": "ab93af21",
   "metadata": {},
   "outputs": [],
   "source": [
    "import matplotlib.pyplot as plt\n",
    "import matplotlib.dates as mdates\n",
    "from datetime import datetime\n",
    "plt.rcParams[\"figure.figsize\"] = (25,20)\n",
    "plt.subplots_adjust(hspace=.5)\n",
    "    \n",
    "start = datetime.strptime(original.iloc[:,0][0], \"%Y-%m-%d %H:%M:%S.%f%z\")\n",
    "end = datetime.strptime(original.iloc[:,0][original.shape[0]-1], \"%Y-%m-%d %H:%M:%S.%f%z\")\n",
    "\n",
    "dts = pd.DataFrame([datetime.strptime(date, \"%Y-%m-%d %H:%M:%S.%f%z\") for date in original.iloc[:,0][:]])\n",
    "dts.index = original.index\n",
    "\n",
    "for i in range(start_col, end_col):\n",
    "    seqs = original.iloc[:,i+1].to_frame().replace(-1e+31, np.nan).dropna(how=\"all\", axis=0)\n",
    "    data = pd.concat([seqs, dts], axis=1).dropna(how=\"any\", axis=0)\n",
    "    data.columns = [\"val\", \"ts\"]\n",
    "    \n",
    "    plt.subplot(3, 1, i+1)\n",
    "    plt.ylim(top=1e6)\n",
    "    plt.plot_date(data[\"ts\"], data[\"val\"].T.values.tolist(), markersize=2,color='green')\n",
    "    \n",
    "    anoms = list(predictions[predictions[i] == True].index)\n",
    "    for index in anoms:\n",
    "        beg = data[\"ts\"].iloc[index * window_size]\n",
    "        end = data[\"ts\"].iloc[index * window_size + window_size]\n",
    "        plt.axvspan(beg, end, color='red', alpha=0.9, lw=0.1)\n",
    "    \n",
    "    # rank clusters for coloring\n",
    "    cluster_counts = [0 for j in range(pipelines[i].n_clusters)]\n",
    "    for cluster in pipelines[i].closest_match:\n",
    "        cluster_counts[cluster] += 1\n",
    "    cluster_rank = np.flip(np.argsort(cluster_counts))\n",
    "        \n",
    "    for index in predictions.index:\n",
    "        if index in anoms:\n",
    "            continue\n",
    "        beg = data[\"ts\"].iloc[index * window_size]\n",
    "        end = data[\"ts\"].iloc[index * window_size + window_size]\n",
    "        colors = [\"#7766ee\", \"blue\", \"darkgreen\", \"darkorange\", 'cyan']\n",
    "        plt.axvspan(beg, end, color=colors[cluster_rank[pipelines[i].closest_match[index]]], alpha=0.4, lw=0)\n",
    "\n",
    "        \n",
    "    ax=plt.gca()\n",
    "    plt.setp(ax.get_xticklabels(), fontsize=16,y=-.02)\n",
    "    plt.setp(ax.get_yticklabels(), fontsize=16)\n",
    "    ax.tick_params(axis='x', colors='.5')    \n",
    "    ax.tick_params(axis='y', colors='.5',pad=15)  \n",
    "    ax.yaxis.offsetText.set_fontsize(16)\n",
    "    ax.spines['bottom'].set_color('.75')\n",
    "    ax.spines['top'].set_color('.75') \n",
    "    ax.spines['right'].set_color('.75')\n",
    "    ax.spines['left'].set_color('.75')\n",
    "    ax.set_title('Energy band: '+original.columns[i+1]+' kev',fontsize=16,y=1.02,color='.5')\n",
    "    if i == end_col-1:\n",
    "        ax.set_xlabel('Date',fontsize=16, color='.5')\n",
    "        \n",
    "\n",
    "plt.savefig('anomaly_result1.png',dpi=300,bbox_inches='tight',transparent=True)"
   ]
  },
  {
   "cell_type": "code",
   "execution_count": null,
   "id": "739235b1",
   "metadata": {
    "scrolled": true
   },
   "outputs": [],
   "source": [
    "# view PFSAs for pipelines from StreamingDetection\n",
    "for i, p in enumerate(pipelines):\n",
    "    print(f\"Channel {i+1}\\n\")\n",
    "    for i, file in enumerate(p.cluster_PFSA_pngs):\n",
    "        print(f\"\\tCluster {i}\")\n",
    "        display(Image(url=f\"{file}.png\", width=300))"
   ]
  }
 ],
 "metadata": {
  "kernelspec": {
   "display_name": "Python 3.9",
   "language": "python",
   "name": "py39"
  },
  "language_info": {
   "codemirror_mode": {
    "name": "ipython",
    "version": 3
   },
   "file_extension": ".py",
   "mimetype": "text/x-python",
   "name": "python",
   "nbconvert_exporter": "python",
   "pygments_lexer": "ipython3",
   "version": "3.9.12"
  }
 },
 "nbformat": 4,
 "nbformat_minor": 5
}
